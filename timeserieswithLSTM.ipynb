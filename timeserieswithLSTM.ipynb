{
  "nbformat": 4,
  "nbformat_minor": 0,
  "metadata": {
    "colab": {
      "provenance": [],
      "authorship_tag": "ABX9TyMFn2cAsUz3hDAWb67Q8HEJ",
      "include_colab_link": true
    },
    "kernelspec": {
      "name": "python3",
      "display_name": "Python 3"
    },
    "language_info": {
      "name": "python"
    }
  },
  "cells": [
    {
      "cell_type": "markdown",
      "metadata": {
        "id": "view-in-github",
        "colab_type": "text"
      },
      "source": [
        "<a href=\"https://colab.research.google.com/github/Bindhushree2529/TimeSeriesWithLSTM/blob/main/timeserieswithLSTM.ipynb\" target=\"_parent\"><img src=\"https://colab.research.google.com/assets/colab-badge.svg\" alt=\"Open In Colab\"/></a>"
      ]
    },
    {
      "cell_type": "markdown",
      "source": [
        "What is LSTM?\n",
        "\n",
        "LSTM stands for Short Term Long Term Memory. It is a model or an architecture that extends the memory of recurrent neural networks. Typically, recurrent neural networks have “short-term memory” in that they use persistent past information for use in the current neural network. Essentially, the previous information is used in the current task. This means that we do not have a list of all of the previous information available for the neural node.\n",
        "\n",
        "Forecast Time Series with LSTM\n",
        "I hope you have understood what time series forecasting means and what are LSTM models. Now I will be heading towards creating a machine learning model to forecast time series with LSTM in Machine Learning.\n",
        "\n",
        "For this task to forecast time series with LSTM, I will start by importing all the necessary packages we need:\n",
        "\n",
        "\n",
        "\n",
        "---\n",
        "\n"
      ],
      "metadata": {
        "id": "6dxaDWObRkLa"
      }
    },
    {
      "cell_type": "code",
      "execution_count": null,
      "metadata": {
        "id": "xOl9Etb8NBCH"
      },
      "outputs": [],
      "source": [
        "\n",
        "import numpy\n",
        "import matplotlib.pyplot as plt\n",
        "import pandas\n",
        "import math\n",
        "from keras.models import Sequential\n",
        "from keras.layers import Dense\n",
        "from keras.layers import LSTM\n",
        "from sklearn.preprocessing import MinMaxScaler\n",
        "from sklearn.metrics import mean_squared_error\n",
        "# fix random seed for reproducibility\n",
        "numpy.random.seed(7)\n"
      ]
    },
    {
      "cell_type": "markdown",
      "source": [
        "Now let’s load the data, and prepare the data so that we can use it on the LSTM model, you can download the dataset from kaggle i'm using \"airline passenger Data\"."
      ],
      "metadata": {
        "id": "6jdHyOpQR-QT"
      }
    },
    {
      "cell_type": "code",
      "source": [
        "# load the dataset\n",
        "dataframe = pandas.read_csv('/content/archive (1).zip', usecols=[1], engine='python')\n",
        "dataset = dataframe.values\n",
        "dataset = dataset.astype('float32')\n",
        "# normalize the dataset\n",
        "scaler = MinMaxScaler(feature_range=(0, 1))\n",
        "dataset = scaler.fit_transform(dataset)"
      ],
      "metadata": {
        "id": "92IrMQQxOqtF"
      },
      "execution_count": null,
      "outputs": []
    },
    {
      "cell_type": "markdown",
      "source": [
        "Now, I will split the data into training sets and test sets:"
      ],
      "metadata": {
        "id": "hn9l0e1OSTKM"
      }
    },
    {
      "cell_type": "code",
      "source": [
        "# split into train and test sets\n",
        "train_size = int(len(dataset) * 0.67)\n",
        "test_size = len(dataset) - train_size\n",
        "train, test = dataset[0:train_size,:], dataset[train_size:len(dataset),:]\n",
        "print(len(train), len(test))"
      ],
      "metadata": {
        "colab": {
          "base_uri": "https://localhost:8080/"
        },
        "id": "jbBA4nvrOq42",
        "outputId": "1b1fbac6-25c1-4589-fa48-5856ede03620"
      },
      "execution_count": null,
      "outputs": [
        {
          "output_type": "stream",
          "name": "stdout",
          "text": [
            "97 48\n"
          ]
        }
      ]
    },
    {
      "cell_type": "markdown",
      "source": [
        "Now before training the data on the LSTM model, we need to prepare the data so that we can fit it on the model, for this task I will define a helper function:"
      ],
      "metadata": {
        "id": "ZrQMxGnoSY74"
      }
    },
    {
      "cell_type": "code",
      "source": [
        "# convert an array of values into a dataset matrix\n",
        "def create_dataset(dataset, look_back=1):\n",
        "\tdataX, dataY = [], []\n",
        "\tfor i in range(len(dataset)-look_back-1):\n",
        "\t\ta = dataset[i:(i+look_back), 0]\n",
        "\t\tdataX.append(a)\n",
        "\t\tdataY.append(dataset[i + look_back, 0])\n",
        "\treturn numpy.array(dataX), numpy.array(dataY)"
      ],
      "metadata": {
        "id": "wksbEz6RNKdn"
      },
      "execution_count": null,
      "outputs": []
    },
    {
      "cell_type": "markdown",
      "source": [
        "Now, we need to reshape the data before applying it into the LSTM model:"
      ],
      "metadata": {
        "id": "_FjsIVXESda2"
      }
    },
    {
      "cell_type": "code",
      "source": [
        "# reshape into X=t and Y=t+1\n",
        "look_back = 1\n",
        "trainX, trainY = create_dataset(train, look_back)\n",
        "testX, testY = create_dataset(test, look_back)\n",
        "# reshape input to be [samples, time steps, features]\n",
        "trainX = numpy.reshape(trainX, (trainX.shape[0], 1, trainX.shape[1]))\n",
        "testX = numpy.reshape(testX, (testX.shape[0], 1, testX.shape[1]))"
      ],
      "metadata": {
        "id": "C5Ffi8ylNKgy"
      },
      "execution_count": null,
      "outputs": []
    },
    {
      "cell_type": "markdown",
      "source": [
        "Now as all the tasks are completed concerning data preparation to fit into the LSTM model, it time to fit the data on the model and let’s train the model:"
      ],
      "metadata": {
        "id": "289iJAy-SgZE"
      }
    },
    {
      "cell_type": "code",
      "source": [
        "# create and fit the LSTM network\n",
        "model = Sequential()\n",
        "model.add(LSTM(4, input_shape=(1, look_back)))\n",
        "model.add(Dense(1))\n",
        "model.compile(loss='mean_squared_error', optimizer='adam')\n",
        "model.fit(trainX, trainY, epochs=100, batch_size=1, verbose=2)"
      ],
      "metadata": {
        "colab": {
          "base_uri": "https://localhost:8080/"
        },
        "id": "8foKjfrJRBg3",
        "outputId": "e0d60786-71b6-4400-a6fb-4568a0afd968"
      },
      "execution_count": null,
      "outputs": [
        {
          "output_type": "stream",
          "name": "stdout",
          "text": [
            "Epoch 1/100\n",
            "95/95 - 4s - loss: 0.0487 - 4s/epoch - 39ms/step\n",
            "Epoch 2/100\n",
            "95/95 - 0s - loss: 0.0252 - 168ms/epoch - 2ms/step\n",
            "Epoch 3/100\n",
            "95/95 - 0s - loss: 0.0183 - 195ms/epoch - 2ms/step\n",
            "Epoch 4/100\n",
            "95/95 - 0s - loss: 0.0162 - 180ms/epoch - 2ms/step\n",
            "Epoch 5/100\n",
            "95/95 - 0s - loss: 0.0153 - 182ms/epoch - 2ms/step\n",
            "Epoch 6/100\n",
            "95/95 - 0s - loss: 0.0141 - 174ms/epoch - 2ms/step\n",
            "Epoch 7/100\n",
            "95/95 - 0s - loss: 0.0128 - 170ms/epoch - 2ms/step\n",
            "Epoch 8/100\n",
            "95/95 - 0s - loss: 0.0117 - 172ms/epoch - 2ms/step\n",
            "Epoch 9/100\n",
            "95/95 - 0s - loss: 0.0103 - 186ms/epoch - 2ms/step\n",
            "Epoch 10/100\n",
            "95/95 - 0s - loss: 0.0089 - 172ms/epoch - 2ms/step\n",
            "Epoch 11/100\n",
            "95/95 - 0s - loss: 0.0074 - 162ms/epoch - 2ms/step\n",
            "Epoch 12/100\n",
            "95/95 - 0s - loss: 0.0061 - 168ms/epoch - 2ms/step\n",
            "Epoch 13/100\n",
            "95/95 - 0s - loss: 0.0049 - 167ms/epoch - 2ms/step\n",
            "Epoch 14/100\n",
            "95/95 - 0s - loss: 0.0040 - 171ms/epoch - 2ms/step\n",
            "Epoch 15/100\n",
            "95/95 - 0s - loss: 0.0033 - 182ms/epoch - 2ms/step\n",
            "Epoch 16/100\n",
            "95/95 - 0s - loss: 0.0028 - 175ms/epoch - 2ms/step\n",
            "Epoch 17/100\n",
            "95/95 - 0s - loss: 0.0025 - 161ms/epoch - 2ms/step\n",
            "Epoch 18/100\n",
            "95/95 - 0s - loss: 0.0023 - 162ms/epoch - 2ms/step\n",
            "Epoch 19/100\n",
            "95/95 - 0s - loss: 0.0021 - 166ms/epoch - 2ms/step\n",
            "Epoch 20/100\n",
            "95/95 - 0s - loss: 0.0021 - 158ms/epoch - 2ms/step\n",
            "Epoch 21/100\n",
            "95/95 - 0s - loss: 0.0021 - 166ms/epoch - 2ms/step\n",
            "Epoch 22/100\n",
            "95/95 - 0s - loss: 0.0020 - 159ms/epoch - 2ms/step\n",
            "Epoch 23/100\n",
            "95/95 - 0s - loss: 0.0020 - 165ms/epoch - 2ms/step\n",
            "Epoch 24/100\n",
            "95/95 - 0s - loss: 0.0021 - 163ms/epoch - 2ms/step\n",
            "Epoch 25/100\n",
            "95/95 - 0s - loss: 0.0021 - 177ms/epoch - 2ms/step\n",
            "Epoch 26/100\n",
            "95/95 - 0s - loss: 0.0021 - 175ms/epoch - 2ms/step\n",
            "Epoch 27/100\n",
            "95/95 - 0s - loss: 0.0020 - 175ms/epoch - 2ms/step\n",
            "Epoch 28/100\n",
            "95/95 - 0s - loss: 0.0021 - 171ms/epoch - 2ms/step\n",
            "Epoch 29/100\n",
            "95/95 - 0s - loss: 0.0021 - 157ms/epoch - 2ms/step\n",
            "Epoch 30/100\n",
            "95/95 - 0s - loss: 0.0021 - 167ms/epoch - 2ms/step\n",
            "Epoch 31/100\n",
            "95/95 - 0s - loss: 0.0021 - 158ms/epoch - 2ms/step\n",
            "Epoch 32/100\n",
            "95/95 - 0s - loss: 0.0020 - 161ms/epoch - 2ms/step\n",
            "Epoch 33/100\n",
            "95/95 - 0s - loss: 0.0020 - 180ms/epoch - 2ms/step\n",
            "Epoch 34/100\n",
            "95/95 - 0s - loss: 0.0020 - 166ms/epoch - 2ms/step\n",
            "Epoch 35/100\n",
            "95/95 - 0s - loss: 0.0020 - 159ms/epoch - 2ms/step\n",
            "Epoch 36/100\n",
            "95/95 - 0s - loss: 0.0020 - 165ms/epoch - 2ms/step\n",
            "Epoch 37/100\n",
            "95/95 - 0s - loss: 0.0020 - 156ms/epoch - 2ms/step\n",
            "Epoch 38/100\n",
            "95/95 - 0s - loss: 0.0021 - 157ms/epoch - 2ms/step\n",
            "Epoch 39/100\n",
            "95/95 - 0s - loss: 0.0021 - 174ms/epoch - 2ms/step\n",
            "Epoch 40/100\n",
            "95/95 - 0s - loss: 0.0021 - 163ms/epoch - 2ms/step\n",
            "Epoch 41/100\n",
            "95/95 - 0s - loss: 0.0020 - 161ms/epoch - 2ms/step\n",
            "Epoch 42/100\n",
            "95/95 - 0s - loss: 0.0020 - 162ms/epoch - 2ms/step\n",
            "Epoch 43/100\n",
            "95/95 - 0s - loss: 0.0020 - 164ms/epoch - 2ms/step\n",
            "Epoch 44/100\n",
            "95/95 - 0s - loss: 0.0020 - 155ms/epoch - 2ms/step\n",
            "Epoch 45/100\n",
            "95/95 - 0s - loss: 0.0020 - 168ms/epoch - 2ms/step\n",
            "Epoch 46/100\n",
            "95/95 - 0s - loss: 0.0020 - 183ms/epoch - 2ms/step\n",
            "Epoch 47/100\n",
            "95/95 - 0s - loss: 0.0020 - 157ms/epoch - 2ms/step\n",
            "Epoch 48/100\n",
            "95/95 - 0s - loss: 0.0021 - 163ms/epoch - 2ms/step\n",
            "Epoch 49/100\n",
            "95/95 - 0s - loss: 0.0021 - 164ms/epoch - 2ms/step\n",
            "Epoch 50/100\n",
            "95/95 - 0s - loss: 0.0021 - 222ms/epoch - 2ms/step\n",
            "Epoch 51/100\n",
            "95/95 - 0s - loss: 0.0020 - 286ms/epoch - 3ms/step\n",
            "Epoch 52/100\n",
            "95/95 - 0s - loss: 0.0021 - 246ms/epoch - 3ms/step\n",
            "Epoch 53/100\n",
            "95/95 - 0s - loss: 0.0020 - 219ms/epoch - 2ms/step\n",
            "Epoch 54/100\n",
            "95/95 - 0s - loss: 0.0021 - 239ms/epoch - 3ms/step\n",
            "Epoch 55/100\n",
            "95/95 - 0s - loss: 0.0021 - 285ms/epoch - 3ms/step\n",
            "Epoch 56/100\n",
            "95/95 - 0s - loss: 0.0020 - 257ms/epoch - 3ms/step\n",
            "Epoch 57/100\n",
            "95/95 - 0s - loss: 0.0020 - 238ms/epoch - 3ms/step\n",
            "Epoch 58/100\n",
            "95/95 - 0s - loss: 0.0020 - 266ms/epoch - 3ms/step\n",
            "Epoch 59/100\n",
            "95/95 - 0s - loss: 0.0020 - 289ms/epoch - 3ms/step\n",
            "Epoch 60/100\n",
            "95/95 - 0s - loss: 0.0021 - 191ms/epoch - 2ms/step\n",
            "Epoch 61/100\n",
            "95/95 - 0s - loss: 0.0021 - 168ms/epoch - 2ms/step\n",
            "Epoch 62/100\n",
            "95/95 - 0s - loss: 0.0020 - 262ms/epoch - 3ms/step\n",
            "Epoch 63/100\n",
            "95/95 - 1s - loss: 0.0021 - 545ms/epoch - 6ms/step\n",
            "Epoch 64/100\n",
            "95/95 - 0s - loss: 0.0021 - 432ms/epoch - 5ms/step\n",
            "Epoch 65/100\n",
            "95/95 - 1s - loss: 0.0020 - 532ms/epoch - 6ms/step\n",
            "Epoch 66/100\n",
            "95/95 - 0s - loss: 0.0021 - 312ms/epoch - 3ms/step\n",
            "Epoch 67/100\n",
            "95/95 - 0s - loss: 0.0020 - 385ms/epoch - 4ms/step\n",
            "Epoch 68/100\n",
            "95/95 - 0s - loss: 0.0020 - 330ms/epoch - 3ms/step\n",
            "Epoch 69/100\n",
            "95/95 - 0s - loss: 0.0020 - 259ms/epoch - 3ms/step\n",
            "Epoch 70/100\n",
            "95/95 - 0s - loss: 0.0020 - 236ms/epoch - 2ms/step\n",
            "Epoch 71/100\n",
            "95/95 - 0s - loss: 0.0020 - 284ms/epoch - 3ms/step\n",
            "Epoch 72/100\n",
            "95/95 - 0s - loss: 0.0021 - 353ms/epoch - 4ms/step\n",
            "Epoch 73/100\n",
            "95/95 - 0s - loss: 0.0021 - 257ms/epoch - 3ms/step\n",
            "Epoch 74/100\n",
            "95/95 - 0s - loss: 0.0021 - 303ms/epoch - 3ms/step\n",
            "Epoch 75/100\n",
            "95/95 - 1s - loss: 0.0020 - 551ms/epoch - 6ms/step\n",
            "Epoch 76/100\n",
            "95/95 - 0s - loss: 0.0020 - 435ms/epoch - 5ms/step\n",
            "Epoch 77/100\n",
            "95/95 - 0s - loss: 0.0020 - 300ms/epoch - 3ms/step\n",
            "Epoch 78/100\n",
            "95/95 - 0s - loss: 0.0021 - 354ms/epoch - 4ms/step\n",
            "Epoch 79/100\n",
            "95/95 - 0s - loss: 0.0020 - 264ms/epoch - 3ms/step\n",
            "Epoch 80/100\n",
            "95/95 - 0s - loss: 0.0020 - 347ms/epoch - 4ms/step\n",
            "Epoch 81/100\n",
            "95/95 - 0s - loss: 0.0020 - 305ms/epoch - 3ms/step\n",
            "Epoch 82/100\n",
            "95/95 - 0s - loss: 0.0020 - 389ms/epoch - 4ms/step\n",
            "Epoch 83/100\n",
            "95/95 - 0s - loss: 0.0020 - 295ms/epoch - 3ms/step\n",
            "Epoch 84/100\n",
            "95/95 - 0s - loss: 0.0021 - 367ms/epoch - 4ms/step\n",
            "Epoch 85/100\n",
            "95/95 - 0s - loss: 0.0020 - 330ms/epoch - 3ms/step\n",
            "Epoch 86/100\n",
            "95/95 - 0s - loss: 0.0020 - 303ms/epoch - 3ms/step\n",
            "Epoch 87/100\n",
            "95/95 - 0s - loss: 0.0020 - 266ms/epoch - 3ms/step\n",
            "Epoch 88/100\n",
            "95/95 - 0s - loss: 0.0020 - 273ms/epoch - 3ms/step\n",
            "Epoch 89/100\n",
            "95/95 - 0s - loss: 0.0020 - 297ms/epoch - 3ms/step\n",
            "Epoch 90/100\n",
            "95/95 - 0s - loss: 0.0020 - 354ms/epoch - 4ms/step\n",
            "Epoch 91/100\n",
            "95/95 - 0s - loss: 0.0020 - 464ms/epoch - 5ms/step\n",
            "Epoch 92/100\n",
            "95/95 - 1s - loss: 0.0020 - 669ms/epoch - 7ms/step\n",
            "Epoch 93/100\n",
            "95/95 - 1s - loss: 0.0020 - 556ms/epoch - 6ms/step\n",
            "Epoch 94/100\n",
            "95/95 - 1s - loss: 0.0021 - 689ms/epoch - 7ms/step\n",
            "Epoch 95/100\n",
            "95/95 - 0s - loss: 0.0020 - 255ms/epoch - 3ms/step\n",
            "Epoch 96/100\n",
            "95/95 - 0s - loss: 0.0020 - 169ms/epoch - 2ms/step\n",
            "Epoch 97/100\n",
            "95/95 - 0s - loss: 0.0020 - 169ms/epoch - 2ms/step\n",
            "Epoch 98/100\n",
            "95/95 - 0s - loss: 0.0020 - 179ms/epoch - 2ms/step\n",
            "Epoch 99/100\n",
            "95/95 - 0s - loss: 0.0021 - 180ms/epoch - 2ms/step\n",
            "Epoch 100/100\n",
            "95/95 - 0s - loss: 0.0020 - 167ms/epoch - 2ms/step\n"
          ]
        },
        {
          "output_type": "execute_result",
          "data": {
            "text/plain": [
              "<keras.src.callbacks.History at 0x78a1e819cf40>"
            ]
          },
          "metadata": {},
          "execution_count": 16
        }
      ]
    },
    {
      "cell_type": "markdown",
      "source": [
        "Now, let’s make predictions and visualize the time series trends by using the matplotlib package in python:"
      ],
      "metadata": {
        "id": "JOJr8Ak8So1B"
      }
    },
    {
      "cell_type": "code",
      "source": [
        "# make predictions\n",
        "trainPredict = model.predict(trainX)\n",
        "testPredict = model.predict(testX)\n",
        "# invert predictions\n",
        "trainPredict = scaler.inverse_transform(trainPredict)\n",
        "trainY = scaler.inverse_transform([trainY])\n",
        "testPredict = scaler.inverse_transform(testPredict)\n",
        "testY = scaler.inverse_transform([testY])\n",
        "# calculate root mean squared error\n",
        "trainScore = math.sqrt(mean_squared_error(trainY[0], trainPredict[:,0]))\n",
        "testScore = math.sqrt(mean_squared_error(testY[0], testPredict[:,0]))\n",
        "\n",
        "# shift train predictions for plotting\n",
        "trainPredictPlot = numpy.empty_like(dataset)\n",
        "trainPredictPlot[:, :] = numpy.nan\n",
        "trainPredictPlot[look_back:len(trainPredict)+look_back, :] = trainPredict\n",
        "# shift test predictions for plotting\n",
        "testPredictPlot = numpy.empty_like(dataset)\n",
        "testPredictPlot[:, :] = numpy.nan\n",
        "testPredictPlot[len(trainPredict)+(look_back*2)+1:len(dataset)-1, :] = testPredict\n",
        "# plot baseline and predictions\n",
        "plt.plot(scaler.inverse_transform(dataset))\n",
        "plt.plot(trainPredictPlot)\n",
        "plt.plot(testPredictPlot)\n",
        "plt.show()"
      ],
      "metadata": {
        "colab": {
          "base_uri": "https://localhost:8080/",
          "height": 465
        },
        "id": "Iq3hRnLtRBkR",
        "outputId": "065aef80-c2c1-48cf-ecaf-fcd9dcf7f912"
      },
      "execution_count": null,
      "outputs": [
        {
          "output_type": "stream",
          "name": "stdout",
          "text": [
            "3/3 [==============================] - 1s 4ms/step\n",
            "2/2 [==============================] - 0s 5ms/step\n"
          ]
        },
        {
          "output_type": "display_data",
          "data": {
            "text/plain": [
              "<Figure size 640x480 with 1 Axes>"
            ],
            "image/png": "[encoded data removed]"
          },
          "metadata": {}
        }
      ]
    }
  ]
}